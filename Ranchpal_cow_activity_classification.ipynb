{
  "nbformat": 4,
  "nbformat_minor": 0,
  "metadata": {
    "colab": {
      "name": "Ranchpal_cow_activity_classification.ipynb",
      "provenance": [],
      "collapsed_sections": []
    },
    "kernelspec": {
      "display_name": "Python 3",
      "name": "python3"
    },
    "language_info": {
      "name": "python"
    }
  },
  "cells": [
    {
      "cell_type": "markdown",
      "metadata": {
        "id": "vIP_b9aQzigw"
      },
      "source": [
        "# **IMPORTING THE NECESSARY LIBRARIES**"
      ]
    },
    {
      "cell_type": "code",
      "metadata": {
        "id": "kOPLjMfE3HiD"
      },
      "source": [
        "import numpy as np\n",
        "import pandas as pd\n",
        "import seaborn as sns\n",
        "import sklearn as sk\n",
        "import matplotlib.pyplot as plt\n",
        "from sklearn.metrics import confusion_matrix\n",
        "from sklearn. preprocessing import StandardScaler\n",
        "from sklearn.model_selection import train_test_split"
      ],
      "execution_count": null,
      "outputs": []
    },
    {
      "cell_type": "markdown",
      "metadata": {
        "id": "zyQcX9uy0Ckq"
      },
      "source": [
        "# **IMPORTING THE DATASETS**"
      ]
    },
    {
      "cell_type": "code",
      "metadata": {
        "id": "meHKE8Z3VgF1"
      },
      "source": [
        "d1 = pd.read_csv('RL7_train.csv')\n",
        "d2 = pd.read_csv('D2_train.csv')\n",
        "d3 = pd.read_csv('E1_train.csv')\n",
        "d4 = pd.read_csv('G8_train.csv')\n",
        "d5 = pd.read_csv('I9_train.csv')\n",
        "d6 = pd.read_csv('L5_train.csv')\n",
        "d7 = pd.read_csv('RS6_train.csv')\n",
        "d8 = pd.read_csv('S4_train.csv')\n",
        "d9= pd.read_csv('W3_train.csv')"
      ],
      "execution_count": null,
      "outputs": []
    },
    {
      "cell_type": "markdown",
      "metadata": {
        "id": "Tv_bK-E30O5S"
      },
      "source": [
        "# **MERGING ALL 9 DATASETS**"
      ]
    },
    {
      "cell_type": "code",
      "metadata": {
        "id": "iklvEd9Acysj"
      },
      "source": [
        "dataset = pd.concat([d1,d2,d3,d4,d5,d6,d7,d8,d9], axis=0)"
      ],
      "execution_count": null,
      "outputs": []
    },
    {
      "cell_type": "code",
      "metadata": {
        "colab": {
          "base_uri": "https://localhost:8080/",
          "height": 206
        },
        "id": "Tg4PppbYWbJ6",
        "outputId": "5cc220eb-0764-4562-d0b5-b3906b9d30ba"
      },
      "source": [
        "dataset.head()"
      ],
      "execution_count": null,
      "outputs": [
        {
          "output_type": "execute_result",
          "data": {
            "text/html": [
              "<div>\n",
              "<style scoped>\n",
              "    .dataframe tbody tr th:only-of-type {\n",
              "        vertical-align: middle;\n",
              "    }\n",
              "\n",
              "    .dataframe tbody tr th {\n",
              "        vertical-align: top;\n",
              "    }\n",
              "\n",
              "    .dataframe thead th {\n",
              "        text-align: right;\n",
              "    }\n",
              "</style>\n",
              "<table border=\"1\" class=\"dataframe\">\n",
              "  <thead>\n",
              "    <tr style=\"text-align: right;\">\n",
              "      <th></th>\n",
              "      <th>time</th>\n",
              "      <th>acc_x</th>\n",
              "      <th>acc_y</th>\n",
              "      <th>acc_z</th>\n",
              "      <th>gyr_x</th>\n",
              "      <th>gyr_y</th>\n",
              "      <th>gyr_z</th>\n",
              "      <th>mag_x</th>\n",
              "      <th>mag_y</th>\n",
              "      <th>mag_z</th>\n",
              "      <th>label</th>\n",
              "    </tr>\n",
              "  </thead>\n",
              "  <tbody>\n",
              "    <tr>\n",
              "      <th>0</th>\n",
              "      <td>1628327640</td>\n",
              "      <td>-0.292480</td>\n",
              "      <td>0.950684</td>\n",
              "      <td>-0.017578</td>\n",
              "      <td>-3.112793</td>\n",
              "      <td>-0.732422</td>\n",
              "      <td>-2.441406</td>\n",
              "      <td>-198.0</td>\n",
              "      <td>1359.0</td>\n",
              "      <td>579.0</td>\n",
              "      <td>7.0</td>\n",
              "    </tr>\n",
              "    <tr>\n",
              "      <th>1</th>\n",
              "      <td>1628327640</td>\n",
              "      <td>-0.288086</td>\n",
              "      <td>0.929199</td>\n",
              "      <td>-0.014160</td>\n",
              "      <td>-2.807617</td>\n",
              "      <td>-0.061035</td>\n",
              "      <td>-1.953125</td>\n",
              "      <td>-207.0</td>\n",
              "      <td>1341.0</td>\n",
              "      <td>568.5</td>\n",
              "      <td>7.0</td>\n",
              "    </tr>\n",
              "    <tr>\n",
              "      <th>2</th>\n",
              "      <td>1628327640</td>\n",
              "      <td>-0.294434</td>\n",
              "      <td>0.923340</td>\n",
              "      <td>-0.006348</td>\n",
              "      <td>-2.197266</td>\n",
              "      <td>1.708984</td>\n",
              "      <td>-0.610352</td>\n",
              "      <td>-211.5</td>\n",
              "      <td>1344.0</td>\n",
              "      <td>571.5</td>\n",
              "      <td>7.0</td>\n",
              "    </tr>\n",
              "    <tr>\n",
              "      <th>3</th>\n",
              "      <td>1628327640</td>\n",
              "      <td>-0.306641</td>\n",
              "      <td>0.922852</td>\n",
              "      <td>-0.010742</td>\n",
              "      <td>-0.549316</td>\n",
              "      <td>0.610352</td>\n",
              "      <td>-0.854492</td>\n",
              "      <td>-201.0</td>\n",
              "      <td>1351.5</td>\n",
              "      <td>564.0</td>\n",
              "      <td>7.0</td>\n",
              "    </tr>\n",
              "    <tr>\n",
              "      <th>4</th>\n",
              "      <td>1628327640</td>\n",
              "      <td>-0.315918</td>\n",
              "      <td>0.925293</td>\n",
              "      <td>0.003906</td>\n",
              "      <td>1.220703</td>\n",
              "      <td>15.380859</td>\n",
              "      <td>-0.305176</td>\n",
              "      <td>-198.0</td>\n",
              "      <td>1369.5</td>\n",
              "      <td>580.5</td>\n",
              "      <td>7.0</td>\n",
              "    </tr>\n",
              "  </tbody>\n",
              "</table>\n",
              "</div>"
            ],
            "text/plain": [
              "         time     acc_x     acc_y     acc_z  ...  mag_x   mag_y  mag_z  label\n",
              "0  1628327640 -0.292480  0.950684 -0.017578  ... -198.0  1359.0  579.0    7.0\n",
              "1  1628327640 -0.288086  0.929199 -0.014160  ... -207.0  1341.0  568.5    7.0\n",
              "2  1628327640 -0.294434  0.923340 -0.006348  ... -211.5  1344.0  571.5    7.0\n",
              "3  1628327640 -0.306641  0.922852 -0.010742  ... -201.0  1351.5  564.0    7.0\n",
              "4  1628327640 -0.315918  0.925293  0.003906  ... -198.0  1369.5  580.5    7.0\n",
              "\n",
              "[5 rows x 11 columns]"
            ]
          },
          "metadata": {},
          "execution_count": 39
        }
      ]
    },
    {
      "cell_type": "code",
      "metadata": {
        "id": "hh-ebyA5Go-B"
      },
      "source": [
        "dataset=dataset.drop(columns=['time'])"
      ],
      "execution_count": null,
      "outputs": []
    },
    {
      "cell_type": "code",
      "metadata": {
        "colab": {
          "base_uri": "https://localhost:8080/",
          "height": 206
        },
        "id": "AOI-nldvG0JF",
        "outputId": "0eb97128-d8ab-4fce-847c-a5a9d5e722e3"
      },
      "source": [
        "dataset.head()"
      ],
      "execution_count": null,
      "outputs": [
        {
          "output_type": "execute_result",
          "data": {
            "text/html": [
              "<div>\n",
              "<style scoped>\n",
              "    .dataframe tbody tr th:only-of-type {\n",
              "        vertical-align: middle;\n",
              "    }\n",
              "\n",
              "    .dataframe tbody tr th {\n",
              "        vertical-align: top;\n",
              "    }\n",
              "\n",
              "    .dataframe thead th {\n",
              "        text-align: right;\n",
              "    }\n",
              "</style>\n",
              "<table border=\"1\" class=\"dataframe\">\n",
              "  <thead>\n",
              "    <tr style=\"text-align: right;\">\n",
              "      <th></th>\n",
              "      <th>acc_x</th>\n",
              "      <th>acc_y</th>\n",
              "      <th>acc_z</th>\n",
              "      <th>gyr_x</th>\n",
              "      <th>gyr_y</th>\n",
              "      <th>gyr_z</th>\n",
              "      <th>mag_x</th>\n",
              "      <th>mag_y</th>\n",
              "      <th>mag_z</th>\n",
              "      <th>label</th>\n",
              "    </tr>\n",
              "  </thead>\n",
              "  <tbody>\n",
              "    <tr>\n",
              "      <th>0</th>\n",
              "      <td>-0.292480</td>\n",
              "      <td>0.950684</td>\n",
              "      <td>-0.017578</td>\n",
              "      <td>-3.112793</td>\n",
              "      <td>-0.732422</td>\n",
              "      <td>-2.441406</td>\n",
              "      <td>-198.0</td>\n",
              "      <td>1359.0</td>\n",
              "      <td>579.0</td>\n",
              "      <td>7.0</td>\n",
              "    </tr>\n",
              "    <tr>\n",
              "      <th>1</th>\n",
              "      <td>-0.288086</td>\n",
              "      <td>0.929199</td>\n",
              "      <td>-0.014160</td>\n",
              "      <td>-2.807617</td>\n",
              "      <td>-0.061035</td>\n",
              "      <td>-1.953125</td>\n",
              "      <td>-207.0</td>\n",
              "      <td>1341.0</td>\n",
              "      <td>568.5</td>\n",
              "      <td>7.0</td>\n",
              "    </tr>\n",
              "    <tr>\n",
              "      <th>2</th>\n",
              "      <td>-0.294434</td>\n",
              "      <td>0.923340</td>\n",
              "      <td>-0.006348</td>\n",
              "      <td>-2.197266</td>\n",
              "      <td>1.708984</td>\n",
              "      <td>-0.610352</td>\n",
              "      <td>-211.5</td>\n",
              "      <td>1344.0</td>\n",
              "      <td>571.5</td>\n",
              "      <td>7.0</td>\n",
              "    </tr>\n",
              "    <tr>\n",
              "      <th>3</th>\n",
              "      <td>-0.306641</td>\n",
              "      <td>0.922852</td>\n",
              "      <td>-0.010742</td>\n",
              "      <td>-0.549316</td>\n",
              "      <td>0.610352</td>\n",
              "      <td>-0.854492</td>\n",
              "      <td>-201.0</td>\n",
              "      <td>1351.5</td>\n",
              "      <td>564.0</td>\n",
              "      <td>7.0</td>\n",
              "    </tr>\n",
              "    <tr>\n",
              "      <th>4</th>\n",
              "      <td>-0.315918</td>\n",
              "      <td>0.925293</td>\n",
              "      <td>0.003906</td>\n",
              "      <td>1.220703</td>\n",
              "      <td>15.380859</td>\n",
              "      <td>-0.305176</td>\n",
              "      <td>-198.0</td>\n",
              "      <td>1369.5</td>\n",
              "      <td>580.5</td>\n",
              "      <td>7.0</td>\n",
              "    </tr>\n",
              "  </tbody>\n",
              "</table>\n",
              "</div>"
            ],
            "text/plain": [
              "      acc_x     acc_y     acc_z     gyr_x  ...  mag_x   mag_y  mag_z  label\n",
              "0 -0.292480  0.950684 -0.017578 -3.112793  ... -198.0  1359.0  579.0    7.0\n",
              "1 -0.288086  0.929199 -0.014160 -2.807617  ... -207.0  1341.0  568.5    7.0\n",
              "2 -0.294434  0.923340 -0.006348 -2.197266  ... -211.5  1344.0  571.5    7.0\n",
              "3 -0.306641  0.922852 -0.010742 -0.549316  ... -201.0  1351.5  564.0    7.0\n",
              "4 -0.315918  0.925293  0.003906  1.220703  ... -198.0  1369.5  580.5    7.0\n",
              "\n",
              "[5 rows x 10 columns]"
            ]
          },
          "metadata": {},
          "execution_count": 41
        }
      ]
    },
    {
      "cell_type": "markdown",
      "metadata": {
        "id": "fwcESzBd0V_c"
      },
      "source": [
        "# **SHAPE OF DATSET**"
      ]
    },
    {
      "cell_type": "code",
      "metadata": {
        "colab": {
          "base_uri": "https://localhost:8080/"
        },
        "id": "_s8N6bJvWu7Z",
        "outputId": "ff579e87-15e8-490b-e343-d139e8c6f657"
      },
      "source": [
        "dataset.shape"
      ],
      "execution_count": null,
      "outputs": [
        {
          "output_type": "execute_result",
          "data": {
            "text/plain": [
              "(5548032, 10)"
            ]
          },
          "metadata": {},
          "execution_count": 43
        }
      ]
    },
    {
      "cell_type": "markdown",
      "metadata": {
        "id": "gJSGYldU0bRx"
      },
      "source": [
        "# **CHECKING FOR NULL VALUES**"
      ]
    },
    {
      "cell_type": "code",
      "metadata": {
        "colab": {
          "base_uri": "https://localhost:8080/"
        },
        "id": "fKbx3fHhAxAB",
        "outputId": "40328912-7b89-424c-88bb-88c34334f3d8"
      },
      "source": [
        "dataset.isnull().sum()"
      ],
      "execution_count": null,
      "outputs": [
        {
          "output_type": "execute_result",
          "data": {
            "text/plain": [
              "acc_x    0\n",
              "acc_y    0\n",
              "acc_z    0\n",
              "gyr_x    0\n",
              "gyr_y    0\n",
              "gyr_z    0\n",
              "mag_x    0\n",
              "mag_y    0\n",
              "mag_z    0\n",
              "label    0\n",
              "dtype: int64"
            ]
          },
          "metadata": {},
          "execution_count": 44
        }
      ]
    },
    {
      "cell_type": "markdown",
      "metadata": {
        "id": "8iXvEQfgA1Su"
      },
      "source": [
        "# **REPLACING NULL VALUES AND DROPPING NAN VALUES**"
      ]
    },
    {
      "cell_type": "code",
      "metadata": {
        "id": "BpFiW2UlXQVt"
      },
      "source": [
        "dataset = dataset.dropna()"
      ],
      "execution_count": null,
      "outputs": []
    },
    {
      "cell_type": "code",
      "metadata": {
        "colab": {
          "base_uri": "https://localhost:8080/",
          "height": 310
        },
        "id": "ZlATGSRG1tVQ",
        "outputId": "2858c9e7-dfc6-43fb-e6b0-feb54c690174"
      },
      "source": [
        "sns.heatmap(dataset.isnull())"
      ],
      "execution_count": null,
      "outputs": [
        {
          "output_type": "execute_result",
          "data": {
            "text/plain": [
              "<matplotlib.axes._subplots.AxesSubplot at 0x7feec2d586d0>"
            ]
          },
          "metadata": {},
          "execution_count": 45
        },
        {
          "output_type": "display_data",
          "data": {
            "image/png": "[encoded data removed]",
            "text/plain": [
              "<Figure size 432x288 with 2 Axes>"
            ]
          },
          "metadata": {
            "needs_background": "light"
          }
        }
      ]
    },
    {
      "cell_type": "markdown",
      "metadata": {
        "id": "w3z7fHSo0g3b"
      },
      "source": [
        "# **COLUMNS**"
      ]
    },
    {
      "cell_type": "code",
      "metadata": {
        "colab": {
          "base_uri": "https://localhost:8080/"
        },
        "id": "yLP8cIp-XXNj",
        "outputId": "ece4b21b-57f8-4d7e-cd9b-617439a5fc74"
      },
      "source": [
        "dataset.columns"
      ],
      "execution_count": null,
      "outputs": [
        {
          "output_type": "execute_result",
          "data": {
            "text/plain": [
              "Index(['acc_x', 'acc_y', 'acc_z', 'gyr_x', 'gyr_y', 'gyr_z', 'mag_x', 'mag_y',\n",
              "       'mag_z', 'label'],\n",
              "      dtype='object')"
            ]
          },
          "metadata": {},
          "execution_count": 10
        }
      ]
    },
    {
      "cell_type": "markdown",
      "metadata": {
        "id": "YsRiWfhs0odN"
      },
      "source": [
        "# **VISUALIZING THE LABEL ATTRIBUTE**"
      ]
    },
    {
      "cell_type": "code",
      "metadata": {
        "colab": {
          "base_uri": "https://localhost:8080/",
          "height": 296
        },
        "id": "S6Px4o0Ik1gB",
        "outputId": "31cb4a26-31d3-4ea7-862e-1fbd56cc3968"
      },
      "source": [
        "sns.countplot(x=\"label\",data=dataset)"
      ],
      "execution_count": null,
      "outputs": [
        {
          "output_type": "execute_result",
          "data": {
            "text/plain": [
              "<matplotlib.axes._subplots.AxesSubplot at 0x7feec77a3910>"
            ]
          },
          "metadata": {},
          "execution_count": 11
        },
        {
          "output_type": "display_data",
          "data": {
            "image/png": "[encoded data removed]",
            "text/plain": [
              "<Figure size 432x288 with 1 Axes>"
            ]
          },
          "metadata": {
            "needs_background": "light"
          }
        }
      ]
    },
    {
      "cell_type": "markdown",
      "metadata": {
        "id": "BwS5NMth1WkW"
      },
      "source": [
        "# **CHECKING FOR CATEGORICAL COLUMN**"
      ]
    },
    {
      "cell_type": "code",
      "metadata": {
        "colab": {
          "base_uri": "https://localhost:8080/"
        },
        "id": "pX0vgVgKlPKM",
        "outputId": "13a9336c-01a6-4e0d-aff6-b2cbea93f38a"
      },
      "source": [
        "def value_type(dataset):\n",
        "  categorical=[]\n",
        "  numerical=[]\n",
        "  for i in dataset.columns:\n",
        "    if dataset[i].dtype == 'object':\n",
        "      categorical.append(i)\n",
        "    else:\n",
        "      numerical.append(i)\n",
        "  return categorical,numerical\n",
        "\n",
        "category,numerical=value_type(dataset)\n",
        "print('columns with categorical values:',category)\n",
        "print('columns with numerical values:',numerical)\n"
      ],
      "execution_count": null,
      "outputs": [
        {
          "output_type": "stream",
          "name": "stdout",
          "text": [
            "columns with categorical values: []\n",
            "columns with numerical values: ['acc_x', 'acc_y', 'acc_z', 'gyr_x', 'gyr_y', 'gyr_z', 'mag_x', 'mag_y', 'mag_z', 'label']\n"
          ]
        }
      ]
    },
    {
      "cell_type": "markdown",
      "metadata": {
        "id": "-jSmz2UD1fl-"
      },
      "source": [
        "# **CHECKING FOR UNIQUE VALUES IN LABEL COLUMN**"
      ]
    },
    {
      "cell_type": "code",
      "metadata": {
        "colab": {
          "base_uri": "https://localhost:8080/"
        },
        "id": "K9OL8Vp_lXvM",
        "outputId": "2be3e3ce-4de8-47ba-d9c0-6d22082fb01a"
      },
      "source": [
        "print('values in Label column:',dataset['label'].nunique())\n",
        "print('values:',dataset['label'].unique())"
      ],
      "execution_count": null,
      "outputs": [
        {
          "output_type": "stream",
          "name": "stdout",
          "text": [
            "values in Label column: 9\n",
            "values: [ 7. nan  2.  1.  8.  9.  5.  6.  4.  3.]\n"
          ]
        }
      ]
    },
    {
      "cell_type": "markdown",
      "metadata": {
        "id": "Qkcx8Bgl1_ET"
      },
      "source": [
        "# **SPLITTING THE DEPENDANT AND INDEPENDANT VARIABLE**"
      ]
    },
    {
      "cell_type": "code",
      "metadata": {
        "id": "eHN70GhvmC-I"
      },
      "source": [
        "X = dataset.iloc[:, :-1].values\n",
        "y = dataset.iloc[:, -1].values"
      ],
      "execution_count": null,
      "outputs": []
    },
    {
      "cell_type": "markdown",
      "metadata": {
        "id": "LAf0WssL2FWf"
      },
      "source": [
        "# **SPLITTING THE TRAINING AND TEST DATA**"
      ]
    },
    {
      "cell_type": "code",
      "metadata": {
        "id": "MVQX79_llzra"
      },
      "source": [
        "from sklearn.model_selection import train_test_split\n",
        "X_train, X_test, y_train, y_test = train_test_split(X, y, test_size = 0.30, random_state = 0)"
      ],
      "execution_count": null,
      "outputs": []
    },
    {
      "cell_type": "markdown",
      "metadata": {
        "id": "ahV0bGz72LIm"
      },
      "source": [
        "# **FEATURE SCALING**"
      ]
    },
    {
      "cell_type": "code",
      "metadata": {
        "id": "5nIyjDQ8menq"
      },
      "source": [
        "from sklearn.preprocessing import StandardScaler\n",
        "sc = StandardScaler()\n",
        "X_train = sc.fit_transform(X_train)\n",
        "X_test = sc.transform(X_test)"
      ],
      "execution_count": null,
      "outputs": []
    },
    {
      "cell_type": "markdown",
      "metadata": {
        "id": "enPJFtAb2OT4"
      },
      "source": [
        "# **APPLYING RANDOM FOREST CLASSIFIER**"
      ]
    },
    {
      "cell_type": "code",
      "metadata": {
        "colab": {
          "base_uri": "https://localhost:8080/"
        },
        "id": "sbZ1U6xZm39D",
        "outputId": "13082d5b-91cc-458f-ab88-266de826b49c"
      },
      "source": [
        "from sklearn.ensemble import RandomForestClassifier\n",
        "classifier = RandomForestClassifier(n_estimators = 4, criterion = 'entropy', random_state = 0)\n",
        "classifier.fit(X_train, y_train)\n"
      ],
      "execution_count": null,
      "outputs": [
        {
          "output_type": "execute_result",
          "data": {
            "text/plain": [
              "RandomForestClassifier(bootstrap=True, ccp_alpha=0.0, class_weight=None,\n",
              "                       criterion='entropy', max_depth=None, max_features='auto',\n",
              "                       max_leaf_nodes=None, max_samples=None,\n",
              "                       min_impurity_decrease=0.0, min_impurity_split=None,\n",
              "                       min_samples_leaf=1, min_samples_split=2,\n",
              "                       min_weight_fraction_leaf=0.0, n_estimators=4,\n",
              "                       n_jobs=None, oob_score=False, random_state=0, verbose=0,\n",
              "                       warm_start=False)"
            ]
          },
          "metadata": {},
          "execution_count": 49
        }
      ]
    },
    {
      "cell_type": "code",
      "metadata": {
        "id": "E9rUYLKJorEU"
      },
      "source": [
        "y_pred = classifier.predict(X_test)"
      ],
      "execution_count": null,
      "outputs": []
    },
    {
      "cell_type": "markdown",
      "metadata": {
        "id": "46IZKu7k2UDI"
      },
      "source": [
        "# **CONFUSION MATRIX AND ACCURACY SCORE**"
      ]
    },
    {
      "cell_type": "code",
      "metadata": {
        "colab": {
          "base_uri": "https://localhost:8080/"
        },
        "id": "uJhYoIxEoyoF",
        "outputId": "d96af864-99a7-45d1-c742-ecc7281a6d48"
      },
      "source": [
        "from sklearn.metrics import confusion_matrix, accuracy_score\n",
        "cm = confusion_matrix(y_test, y_pred)\n",
        "print(cm)\n",
        "accuracy_score(y_test, y_pred)"
      ],
      "execution_count": null,
      "outputs": [
        {
          "output_type": "stream",
          "name": "stdout",
          "text": [
            "[[283219    135    230   4924     10   1434     52   4161      2]\n",
            " [   415  15092    234    242     15    132      9     74      4]\n",
            " [  1186    350  35881   2230    312   1782    293   1674     34]\n",
            " [ 12490    233   1645 220630    609   9702   1404   6121     17]\n",
            " [    74     43    528   1454 269061    274   9687    322    200]\n",
            " [  3150    175   1581  19706    202 238905    450   4715     21]\n",
            " [   141     27    372   2029  15095    803 255301    516    147]\n",
            " [  9299     94   2203  12987    581  12412    842  72265     61]\n",
            " [    14      4    143     68    588    108    459    145 120181]]\n"
          ]
        },
        {
          "output_type": "execute_result",
          "data": {
            "text/plain": [
              "0.9075498224596104"
            ]
          },
          "metadata": {},
          "execution_count": 51
        }
      ]
    },
    {
      "cell_type": "markdown",
      "metadata": {
        "id": "ClQGmsmh2gs-"
      },
      "source": [
        "# **CLASSIFICATION REPORT**"
      ]
    },
    {
      "cell_type": "code",
      "metadata": {
        "colab": {
          "base_uri": "https://localhost:8080/"
        },
        "id": "__CwD2nZuHV8",
        "outputId": "3c94b4dc-5dee-4a34-d510-01a94f273958"
      },
      "source": [
        "from sklearn.metrics import classification_report\n",
        "print(classification_report(y_test, y_pred))"
      ],
      "execution_count": null,
      "outputs": [
        {
          "output_type": "stream",
          "name": "stdout",
          "text": [
            "              precision    recall  f1-score   support\n",
            "\n",
            "         1.0       0.91      0.96      0.94    294167\n",
            "         2.0       0.93      0.93      0.93     16217\n",
            "         3.0       0.84      0.82      0.83     43742\n",
            "         4.0       0.83      0.87      0.85    252851\n",
            "         5.0       0.94      0.96      0.95    281643\n",
            "         6.0       0.90      0.89      0.89    268905\n",
            "         7.0       0.95      0.93      0.94    274431\n",
            "         8.0       0.80      0.65      0.72    110744\n",
            "         9.0       1.00      0.99      0.99    121710\n",
            "\n",
            "    accuracy                           0.91   1664410\n",
            "   macro avg       0.90      0.89      0.89   1664410\n",
            "weighted avg       0.91      0.91      0.91   1664410\n",
            "\n"
          ]
        }
      ]
    },
    {
      "cell_type": "markdown",
      "metadata": {
        "id": "9g-uQ_kK2bLe"
      },
      "source": [
        "# **ACTUAL VS PREDICTED**"
      ]
    },
    {
      "cell_type": "code",
      "metadata": {
        "colab": {
          "base_uri": "https://localhost:8080/",
          "height": 206
        },
        "id": "FIvbnge2sLve",
        "outputId": "c305a29b-c7c2-4a48-82f3-2a42eecdb9ea"
      },
      "source": [
        "df=pd.DataFrame({'Actual':y_test, 'Predicted':y_pred})\n",
        "df.head(5)"
      ],
      "execution_count": null,
      "outputs": [
        {
          "output_type": "execute_result",
          "data": {
            "text/html": [
              "<div>\n",
              "<style scoped>\n",
              "    .dataframe tbody tr th:only-of-type {\n",
              "        vertical-align: middle;\n",
              "    }\n",
              "\n",
              "    .dataframe tbody tr th {\n",
              "        vertical-align: top;\n",
              "    }\n",
              "\n",
              "    .dataframe thead th {\n",
              "        text-align: right;\n",
              "    }\n",
              "</style>\n",
              "<table border=\"1\" class=\"dataframe\">\n",
              "  <thead>\n",
              "    <tr style=\"text-align: right;\">\n",
              "      <th></th>\n",
              "      <th>Actual</th>\n",
              "      <th>Predicted</th>\n",
              "    </tr>\n",
              "  </thead>\n",
              "  <tbody>\n",
              "    <tr>\n",
              "      <th>0</th>\n",
              "      <td>5.0</td>\n",
              "      <td>7.0</td>\n",
              "    </tr>\n",
              "    <tr>\n",
              "      <th>1</th>\n",
              "      <td>7.0</td>\n",
              "      <td>7.0</td>\n",
              "    </tr>\n",
              "    <tr>\n",
              "      <th>2</th>\n",
              "      <td>1.0</td>\n",
              "      <td>1.0</td>\n",
              "    </tr>\n",
              "    <tr>\n",
              "      <th>3</th>\n",
              "      <td>6.0</td>\n",
              "      <td>6.0</td>\n",
              "    </tr>\n",
              "    <tr>\n",
              "      <th>4</th>\n",
              "      <td>6.0</td>\n",
              "      <td>6.0</td>\n",
              "    </tr>\n",
              "  </tbody>\n",
              "</table>\n",
              "</div>"
            ],
            "text/plain": [
              "   Actual  Predicted\n",
              "0     5.0        7.0\n",
              "1     7.0        7.0\n",
              "2     1.0        1.0\n",
              "3     6.0        6.0\n",
              "4     6.0        6.0"
            ]
          },
          "metadata": {},
          "execution_count": 53
        }
      ]
    },
    {
      "cell_type": "markdown",
      "metadata": {
        "id": "oIWUAmg4Acpt"
      },
      "source": [
        "# **CHECKING PREDICTION FOR NEW VALUES**"
      ]
    },
    {
      "cell_type": "code",
      "metadata": {
        "colab": {
          "base_uri": "https://localhost:8080/"
        },
        "id": "HU2QtLLfHd_S",
        "outputId": "ec0db6f0-6418-4223-dba5-c3c377e3c4c7"
      },
      "source": [
        "print(classifier.predict([[0.1921,-1.102051,-0.2559,-3.4566,39.93653,4.57324,-33.5,21.5,61.5\t]]))"
      ],
      "execution_count": null,
      "outputs": [
        {
          "output_type": "stream",
          "name": "stdout",
          "text": [
            "[1.]\n"
          ]
        }
      ]
    },
    {
      "cell_type": "markdown",
      "metadata": {
        "id": "fWp8pNDJ2kiW"
      },
      "source": [
        "# **TRAINING SCORE AND TEST SCORE**"
      ]
    },
    {
      "cell_type": "code",
      "metadata": {
        "colab": {
          "base_uri": "https://localhost:8080/"
        },
        "id": "vyTe7D7TsPYe",
        "outputId": "06b68b13-8a4a-4e98-ce62-4be034831fc4"
      },
      "source": [
        "print(classifier.score(X_train,y_train))\n",
        "print(classifier.score(X_test,y_test))"
      ],
      "execution_count": null,
      "outputs": [
        {
          "output_type": "stream",
          "name": "stdout",
          "text": [
            "0.9836508290456693\n",
            "0.9075498224596104\n"
          ]
        }
      ]
    }
  ]
}